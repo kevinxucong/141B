{
 "cells": [
  {
   "cell_type": "code",
   "execution_count": 1,
   "metadata": {
    "collapsed": true
   },
   "outputs": [],
   "source": [
    "import tweepy\n",
    "import pandas as pd"
   ]
  },
  {
   "cell_type": "code",
   "execution_count": 9,
   "metadata": {
    "collapsed": true
   },
   "outputs": [],
   "source": [
    "def get_all_tweets(screen_name,since_id,consumer_key,consumer_secret,access_key,access_secret):\n",
    "    #Twitter only allows access to a users most recent 3240 tweets with this method\n",
    "    \n",
    "    #authorize twitter, initialize tweepy\n",
    "    auth = tweepy.OAuthHandler(consumer_key, consumer_secret)\n",
    "    auth.set_access_token(access_key, access_secret)\n",
    "    api = tweepy.API(auth)\n",
    "\n",
    "    #initialize a list to hold all the tweepy Tweets\n",
    "    alltweets = []\t\n",
    "    \n",
    "    #make initial request for most recent tweets (200 is the maximum allowed count)\n",
    "    new_tweets = api.user_timeline(screen_name = screen_name,count=200, since_id = since_id)\n",
    "    \n",
    "    #save most recent tweets\n",
    "    alltweets.extend(new_tweets)\n",
    "    \n",
    "    #save the id of the oldest tweet less one\n",
    "    oldest = alltweets[-1].id - 1\n",
    "    \n",
    "    #keep grabbing tweets until there are no tweets left to grab\n",
    "    while len(new_tweets) > 0:\n",
    "        #print \"getting tweets before %s\" % (oldest)\n",
    "        \n",
    "        #all subsiquent requests use the max_id param to prevent duplicates\n",
    "        new_tweets = api.user_timeline(screen_name = screen_name,count=200,max_id=oldest, since_id = since_id)\n",
    "    \n",
    "        #save most recent tweets\n",
    "        alltweets.extend(new_tweets)\n",
    "        \n",
    "        #update the id of the oldest tweet less one\n",
    "        oldest = alltweets[-1].id - 1\n",
    "        \n",
    "        #print \"...%s tweets downloaded so far\" % (len(alltweets))\n",
    "    #transform the tweepy tweets into a 2D array\n",
    "\n",
    "    outtweets = [[tweet.created_at, tweet.text.encode(\"utf-8\"), tweet.source, tweet.favorite_count, tweet.retweet_count,\n",
    "                  [p['text'] for p in tweet.entities['hashtags']], [p['name'] for p in tweet.entities['user_mentions']],\n",
    "                  (tweet.entities['urls']!=[]), ('media' in tweet.entities.keys())] for tweet in alltweets]\n",
    "    result = pd.DataFrame(outtweets)\n",
    "    result.columns = [\"created_time\",\"text\",\"source\",\"favorite_count\",\"retweet_count\",'hashtags','user_mentioned',\n",
    "                      'url_used','media_used']\n",
    "    \n",
    "    return result"
   ]
  },
  {
   "cell_type": "code",
   "execution_count": 7,
   "metadata": {
    "collapsed": true
   },
   "outputs": [],
   "source": [
    "consumer_key = '1ZvRTduPL1QaxWw1RAYW9UKDS'\n",
    "consumer_secret = '0gwH9jmJlZfmQWPBWne7vFIQD6AJBHiPSJpMINdSouvrJ17SNC'\n",
    "access_token_key =  '836992991814246400-RCdOn9BxTzzrH2wDZoZQT8jiKj7SP3P'\n",
    "access_token_secret = 'MkziDeQ6kvaBYdiaGeoEgqrTj6GHJNWqYph3B8yQJgdjT'"
   ]
  },
  {
   "cell_type": "code",
   "execution_count": null,
   "metadata": {
    "collapsed": true
   },
   "outputs": [],
   "source": []
  }
 ],
 "metadata": {
  "anaconda-cloud": {},
  "kernelspec": {
   "display_name": "Python [default]",
   "language": "python",
   "name": "python2"
  },
  "language_info": {
   "codemirror_mode": {
    "name": "ipython",
    "version": 2
   },
   "file_extension": ".py",
   "mimetype": "text/x-python",
   "name": "python",
   "nbconvert_exporter": "python",
   "pygments_lexer": "ipython2",
   "version": "2.7.12"
  }
 },
 "nbformat": 4,
 "nbformat_minor": 1
}
