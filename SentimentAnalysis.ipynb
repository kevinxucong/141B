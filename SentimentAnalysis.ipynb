{
 "cells": [
  {
   "cell_type": "code",
   "execution_count": 21,
   "metadata": {
    "collapsed": true
   },
   "outputs": [],
   "source": [
    "import pandas as pd\n",
    "import numpy as np"
   ]
  },
  {
   "cell_type": "code",
   "execution_count": 20,
   "metadata": {
    "collapsed": true
   },
   "outputs": [],
   "source": [
    "import matplotlib.pyplot as plt"
   ]
  },
  {
   "cell_type": "code",
   "execution_count": 2,
   "metadata": {
    "collapsed": false
   },
   "outputs": [
    {
     "data": {
      "text/html": [
       "<div>\n",
       "<table border=\"1\" class=\"dataframe\">\n",
       "  <thead>\n",
       "    <tr style=\"text-align: right;\">\n",
       "      <th></th>\n",
       "      <th>Unnamed: 0</th>\n",
       "      <th>id</th>\n",
       "      <th>created_time</th>\n",
       "      <th>text</th>\n",
       "      <th>source</th>\n",
       "      <th>favorite_count</th>\n",
       "      <th>retweet_count</th>\n",
       "      <th>username</th>\n",
       "    </tr>\n",
       "  </thead>\n",
       "  <tbody>\n",
       "    <tr>\n",
       "      <th>0</th>\n",
       "      <td>0</td>\n",
       "      <td>836933725602656256</td>\n",
       "      <td>2017-03-01 13:38:44</td>\n",
       "      <td>THANK YOU!</td>\n",
       "      <td>Twitter for Android</td>\n",
       "      <td>133931</td>\n",
       "      <td>21289</td>\n",
       "      <td>realDonaldTrump</td>\n",
       "    </tr>\n",
       "    <tr>\n",
       "      <th>1</th>\n",
       "      <td>1</td>\n",
       "      <td>836753422271582208</td>\n",
       "      <td>2017-03-01 01:42:16</td>\n",
       "      <td>#JointSession #MAGA🇺🇸\\r\\nhttps://t.co/RDO6Jt...</td>\n",
       "      <td>Twitter for iPhone</td>\n",
       "      <td>48608</td>\n",
       "      <td>8527</td>\n",
       "      <td>realDonaldTrump</td>\n",
       "    </tr>\n",
       "    <tr>\n",
       "      <th>2</th>\n",
       "      <td>2</td>\n",
       "      <td>836750538943377408</td>\n",
       "      <td>2017-03-01 01:30:49</td>\n",
       "      <td>Join me live at 9:00 P.M. \\r\\n#JointAddress ht...</td>\n",
       "      <td>Twitter for iPhone</td>\n",
       "      <td>44261</td>\n",
       "      <td>6417</td>\n",
       "      <td>realDonaldTrump</td>\n",
       "    </tr>\n",
       "    <tr>\n",
       "      <th>3</th>\n",
       "      <td>3</td>\n",
       "      <td>836406328369242113</td>\n",
       "      <td>2017-02-28 02:43:03</td>\n",
       "      <td>I will be interviewed on @foxandfriends at 6:0...</td>\n",
       "      <td>Twitter for Android</td>\n",
       "      <td>75586</td>\n",
       "      <td>10582</td>\n",
       "      <td>realDonaldTrump</td>\n",
       "    </tr>\n",
       "    <tr>\n",
       "      <th>4</th>\n",
       "      <td>4</td>\n",
       "      <td>836332166728527872</td>\n",
       "      <td>2017-02-27 21:48:21</td>\n",
       "      <td>GOP now viewed more favorably than Dems, in Tr...</td>\n",
       "      <td>Twitter for iPhone</td>\n",
       "      <td>64138</td>\n",
       "      <td>13731</td>\n",
       "      <td>realDonaldTrump</td>\n",
       "    </tr>\n",
       "  </tbody>\n",
       "</table>\n",
       "</div>"
      ],
      "text/plain": [
       "   Unnamed: 0                  id         created_time  \\\n",
       "0           0  836933725602656256  2017-03-01 13:38:44   \n",
       "1           1  836753422271582208  2017-03-01 01:42:16   \n",
       "2           2  836750538943377408  2017-03-01 01:30:49   \n",
       "3           3  836406328369242113  2017-02-28 02:43:03   \n",
       "4           4  836332166728527872  2017-02-27 21:48:21   \n",
       "\n",
       "                                                text               source  \\\n",
       "0                                         THANK YOU!  Twitter for Android   \n",
       "1  #JointSession #MAGA🇺🇸\\r\\nhttps://t.co/RDO6Jt...   Twitter for iPhone   \n",
       "2  Join me live at 9:00 P.M. \\r\\n#JointAddress ht...   Twitter for iPhone   \n",
       "3  I will be interviewed on @foxandfriends at 6:0...  Twitter for Android   \n",
       "4  GOP now viewed more favorably than Dems, in Tr...   Twitter for iPhone   \n",
       "\n",
       "   favorite_count  retweet_count         username  \n",
       "0          133931          21289  realDonaldTrump  \n",
       "1           48608           8527  realDonaldTrump  \n",
       "2           44261           6417  realDonaldTrump  \n",
       "3           75586          10582  realDonaldTrump  \n",
       "4           64138          13731  realDonaldTrump  "
      ]
     },
     "execution_count": 2,
     "metadata": {},
     "output_type": "execute_result"
    }
   ],
   "source": [
    "Trump = pd.read_csv(r\"C:\\users\\kevin\\Trump.csv\")\n",
    "Trump.head()"
   ]
  },
  {
   "cell_type": "code",
   "execution_count": 3,
   "metadata": {
    "collapsed": false
   },
   "outputs": [
    {
     "data": {
      "text/html": [
       "<div>\n",
       "<table border=\"1\" class=\"dataframe\">\n",
       "  <thead>\n",
       "    <tr style=\"text-align: right;\">\n",
       "      <th>source</th>\n",
       "      <th>Instagram</th>\n",
       "      <th>Media Studio</th>\n",
       "      <th>Periscope</th>\n",
       "      <th>Twitter Ads</th>\n",
       "      <th>Twitter Web Client</th>\n",
       "      <th>Twitter for Android</th>\n",
       "      <th>Twitter for iPad</th>\n",
       "      <th>Twitter for iPhone</th>\n",
       "      <th>All</th>\n",
       "    </tr>\n",
       "  </thead>\n",
       "  <tbody>\n",
       "    <tr>\n",
       "      <th>No hashtag</th>\n",
       "      <td>2</td>\n",
       "      <td>0</td>\n",
       "      <td>0</td>\n",
       "      <td>1</td>\n",
       "      <td>161</td>\n",
       "      <td>1357</td>\n",
       "      <td>9</td>\n",
       "      <td>768</td>\n",
       "      <td>2298</td>\n",
       "    </tr>\n",
       "    <tr>\n",
       "      <th>have hashtag</th>\n",
       "      <td>0</td>\n",
       "      <td>1</td>\n",
       "      <td>1</td>\n",
       "      <td>0</td>\n",
       "      <td>112</td>\n",
       "      <td>111</td>\n",
       "      <td>13</td>\n",
       "      <td>709</td>\n",
       "      <td>947</td>\n",
       "    </tr>\n",
       "    <tr>\n",
       "      <th>All</th>\n",
       "      <td>2</td>\n",
       "      <td>1</td>\n",
       "      <td>1</td>\n",
       "      <td>1</td>\n",
       "      <td>273</td>\n",
       "      <td>1468</td>\n",
       "      <td>22</td>\n",
       "      <td>1477</td>\n",
       "      <td>3245</td>\n",
       "    </tr>\n",
       "  </tbody>\n",
       "</table>\n",
       "</div>"
      ],
      "text/plain": [
       "source        Instagram  Media Studio  Periscope  Twitter Ads  \\\n",
       "No hashtag            2             0          0            1   \n",
       "have hashtag          0             1          1            0   \n",
       "All                   2             1          1            1   \n",
       "\n",
       "source        Twitter Web Client  Twitter for Android  Twitter for iPad  \\\n",
       "No hashtag                   161                 1357                 9   \n",
       "have hashtag                 112                  111                13   \n",
       "All                          273                 1468                22   \n",
       "\n",
       "source        Twitter for iPhone   All  \n",
       "No hashtag                   768  2298  \n",
       "have hashtag                 709   947  \n",
       "All                         1477  3245  "
      ]
     },
     "execution_count": 3,
     "metadata": {},
     "output_type": "execute_result"
    }
   ],
   "source": [
    "Trump[\"hashtag\"] = [\"#\" in Trump[\"text\"].iloc[i] for i in xrange(Trump.shape[0])]\n",
    "\n",
    "Source_hashtag = pd.crosstab(index=Trump[\"hashtag\"], columns=Trump[\"source\"], margins = True)\n",
    "Source_hashtag.index= [\"No hashtag\",\"have hashtag\",\"All\"]\n",
    "Source_hashtag"
   ]
  },
  {
   "cell_type": "code",
   "execution_count": 19,
   "metadata": {
    "collapsed": false
   },
   "outputs": [
    {
     "data": {
      "text/html": [
       "<div>\n",
       "<table border=\"1\" class=\"dataframe\">\n",
       "  <thead>\n",
       "    <tr style=\"text-align: right;\">\n",
       "      <th></th>\n",
       "      <th>source</th>\n",
       "      <th>hashtag</th>\n",
       "      <th>id</th>\n",
       "    </tr>\n",
       "  </thead>\n",
       "  <tbody>\n",
       "    <tr>\n",
       "      <th>6</th>\n",
       "      <td>Twitter for Android</td>\n",
       "      <td>False</td>\n",
       "      <td>1357</td>\n",
       "    </tr>\n",
       "    <tr>\n",
       "      <th>7</th>\n",
       "      <td>Twitter for Android</td>\n",
       "      <td>True</td>\n",
       "      <td>111</td>\n",
       "    </tr>\n",
       "    <tr>\n",
       "      <th>10</th>\n",
       "      <td>Twitter for iPhone</td>\n",
       "      <td>False</td>\n",
       "      <td>768</td>\n",
       "    </tr>\n",
       "    <tr>\n",
       "      <th>11</th>\n",
       "      <td>Twitter for iPhone</td>\n",
       "      <td>True</td>\n",
       "      <td>709</td>\n",
       "    </tr>\n",
       "  </tbody>\n",
       "</table>\n",
       "</div>"
      ],
      "text/plain": [
       "                 source hashtag    id\n",
       "6   Twitter for Android   False  1357\n",
       "7   Twitter for Android    True   111\n",
       "10   Twitter for iPhone   False   768\n",
       "11   Twitter for iPhone    True   709"
      ]
     },
     "execution_count": 19,
     "metadata": {},
     "output_type": "execute_result"
    }
   ],
   "source": [
    "hashtag_tweet = Trump.groupby(by=[\"source\",\"hashtag\"]).count().reset_index()[[\"source\",\"hashtag\",\"id\"]]\n",
    "hashtag_tweet = pd.concat([hashtag_tweet[hashtag_tweet[\"source\"] == \"Twitter for Android\"],hashtag_tweet[hashtag_tweet[\"source\"] == \"Twitter for iPhone\"]])\n",
    "hashtag_tweet"
   ]
  },
  {
   "cell_type": "code",
   "execution_count": 36,
   "metadata": {
    "collapsed": false
   },
   "outputs": [
    {
     "data": {
      "image/png": "[encoded data removed]",
      "text/plain": [
       "<matplotlib.figure.Figure at 0xacbaa58>"
      ]
     },
     "metadata": {},
     "output_type": "display_data"
    }
   ],
   "source": [
    "plt.rcParams['figure.figsize'] = (8, 6)\n",
    "plt.rcParams['ytick.labelsize'] = 12\n",
    "plt.rcParams['xtick.labelsize'] = 16\n",
    "\n",
    "fig, ax = plt.subplots()\n",
    "index = np.arange(2)\n",
    "bar_width = 0.25\n",
    "\n",
    "number_hashtag = hashtag_tweet[hashtag_tweet[\"hashtag\"]==True][\"id\"]\n",
    "number_no =  hashtag_tweet[hashtag_tweet[\"hashtag\"]!=True][\"id\"]\n",
    "\n",
    "opacity = 0.4\n",
    "error_config = {'ecolor': '0.3'}\n",
    "\n",
    "rects1 = plt.bar(index, number_hashtag, bar_width,\n",
    "                 alpha=opacity,\n",
    "                 color='b',\n",
    "                 label='hashtag')\n",
    "\n",
    "rects2 = plt.bar(index + bar_width, number_no, bar_width,\n",
    "                 alpha=opacity,\n",
    "                 color='r',\n",
    "                 label='no hashtag')\n",
    "\n",
    "plt.xlabel('sources',size=20)\n",
    "plt.ylabel('Number of tweets',size=20)\n",
    "#plt.title('')\n",
    "plt.xticks(index + bar_width / 2, ('Android', 'iPhone'))\n",
    "plt.legend(prop={\"size\":24})\n",
    "\n",
    "plt.tight_layout()\n",
    "plt.show()"
   ]
  },
  {
   "cell_type": "code",
   "execution_count": 4,
   "metadata": {
    "collapsed": false
   },
   "outputs": [
    {
     "data": {
      "text/html": [
       "<div>\n",
       "<table border=\"1\" class=\"dataframe\">\n",
       "  <thead>\n",
       "    <tr style=\"text-align: right;\">\n",
       "      <th>source</th>\n",
       "      <th>Instagram</th>\n",
       "      <th>Media Studio</th>\n",
       "      <th>Periscope</th>\n",
       "      <th>Twitter Ads</th>\n",
       "      <th>Twitter Web Client</th>\n",
       "      <th>Twitter for Android</th>\n",
       "      <th>Twitter for iPad</th>\n",
       "      <th>Twitter for iPhone</th>\n",
       "      <th>All</th>\n",
       "    </tr>\n",
       "  </thead>\n",
       "  <tbody>\n",
       "    <tr>\n",
       "      <th>Not quoted</th>\n",
       "      <td>2</td>\n",
       "      <td>1</td>\n",
       "      <td>1</td>\n",
       "      <td>1</td>\n",
       "      <td>254</td>\n",
       "      <td>1024</td>\n",
       "      <td>22</td>\n",
       "      <td>1431</td>\n",
       "      <td>2736</td>\n",
       "    </tr>\n",
       "    <tr>\n",
       "      <th>quoted</th>\n",
       "      <td>0</td>\n",
       "      <td>0</td>\n",
       "      <td>0</td>\n",
       "      <td>0</td>\n",
       "      <td>19</td>\n",
       "      <td>444</td>\n",
       "      <td>0</td>\n",
       "      <td>46</td>\n",
       "      <td>509</td>\n",
       "    </tr>\n",
       "    <tr>\n",
       "      <th>All</th>\n",
       "      <td>2</td>\n",
       "      <td>1</td>\n",
       "      <td>1</td>\n",
       "      <td>1</td>\n",
       "      <td>273</td>\n",
       "      <td>1468</td>\n",
       "      <td>22</td>\n",
       "      <td>1477</td>\n",
       "      <td>3245</td>\n",
       "    </tr>\n",
       "  </tbody>\n",
       "</table>\n",
       "</div>"
      ],
      "text/plain": [
       "source      Instagram  Media Studio  Periscope  Twitter Ads  \\\n",
       "Not quoted          2             1          1            1   \n",
       "quoted              0             0          0            0   \n",
       "All                 2             1          1            1   \n",
       "\n",
       "source      Twitter Web Client  Twitter for Android  Twitter for iPad  \\\n",
       "Not quoted                 254                 1024                22   \n",
       "quoted                      19                  444                 0   \n",
       "All                        273                 1468                22   \n",
       "\n",
       "source      Twitter for iPhone   All  \n",
       "Not quoted                1431  2736  \n",
       "quoted                      46   509  \n",
       "All                       1477  3245  "
      ]
     },
     "execution_count": 4,
     "metadata": {},
     "output_type": "execute_result"
    }
   ],
   "source": [
    "Trump[\"quoted\"] = ['\"' in Trump[\"text\"].iloc[i] for i in xrange(Trump.shape[0])]\n",
    "\n",
    "Source_quoted = pd.crosstab(index=Trump[\"quoted\"], columns=Trump[\"source\"], margins = True)\n",
    "Source_quoted.index= [\"Not quoted\",\"quoted\",\"All\"]\n",
    "Source_quoted"
   ]
  },
  {
   "cell_type": "code",
   "execution_count": 37,
   "metadata": {
    "collapsed": false
   },
   "outputs": [
    {
     "data": {
      "text/html": [
       "<div>\n",
       "<table border=\"1\" class=\"dataframe\">\n",
       "  <thead>\n",
       "    <tr style=\"text-align: right;\">\n",
       "      <th></th>\n",
       "      <th>source</th>\n",
       "      <th>quoted</th>\n",
       "      <th>id</th>\n",
       "    </tr>\n",
       "  </thead>\n",
       "  <tbody>\n",
       "    <tr>\n",
       "      <th>6</th>\n",
       "      <td>Twitter for Android</td>\n",
       "      <td>False</td>\n",
       "      <td>1024</td>\n",
       "    </tr>\n",
       "    <tr>\n",
       "      <th>7</th>\n",
       "      <td>Twitter for Android</td>\n",
       "      <td>True</td>\n",
       "      <td>444</td>\n",
       "    </tr>\n",
       "    <tr>\n",
       "      <th>9</th>\n",
       "      <td>Twitter for iPhone</td>\n",
       "      <td>False</td>\n",
       "      <td>1431</td>\n",
       "    </tr>\n",
       "    <tr>\n",
       "      <th>10</th>\n",
       "      <td>Twitter for iPhone</td>\n",
       "      <td>True</td>\n",
       "      <td>46</td>\n",
       "    </tr>\n",
       "  </tbody>\n",
       "</table>\n",
       "</div>"
      ],
      "text/plain": [
       "                 source quoted    id\n",
       "6   Twitter for Android  False  1024\n",
       "7   Twitter for Android   True   444\n",
       "9    Twitter for iPhone  False  1431\n",
       "10   Twitter for iPhone   True    46"
      ]
     },
     "execution_count": 37,
     "metadata": {},
     "output_type": "execute_result"
    }
   ],
   "source": [
    "quoted_tweet = Trump.groupby(by=[\"source\",\"quoted\"]).count().reset_index()[[\"source\",\"quoted\",\"id\"]]\n",
    "quoted_tweet = pd.concat([quoted_tweet[quoted_tweet[\"source\"] == \"Twitter for Android\"],quoted_tweet[quoted_tweet[\"source\"] == \"Twitter for iPhone\"]])\n",
    "quoted_tweet"
   ]
  },
  {
   "cell_type": "code",
   "execution_count": 42,
   "metadata": {
    "collapsed": false
   },
   "outputs": [
    {
     "data": {
      "image/png": "[encoded data removed]",
      "text/plain": [
       "<matplotlib.figure.Figure at 0xc184080>"
      ]
     },
     "metadata": {},
     "output_type": "display_data"
    }
   ],
   "source": [
    "fig, ax = plt.subplots()\n",
    "index = np.arange(2)\n",
    "bar_width = 0.25\n",
    "\n",
    "number_quoted = quoted_tweet[quoted_tweet[\"quoted\"]==True][\"id\"]\n",
    "number_not_quoted =  quoted_tweet[quoted_tweet[\"quoted\"]!=True][\"id\"]\n",
    "\n",
    "opacity = 0.4\n",
    "error_config = {'ecolor': '0.3'}\n",
    "\n",
    "rects1 = plt.bar(index, number_quoted, bar_width,\n",
    "                 alpha=opacity,\n",
    "                 color='b',\n",
    "                 label='quoted')\n",
    "\n",
    "rects2 = plt.bar(index + bar_width, number_not_quoted, bar_width,\n",
    "                 alpha=opacity,\n",
    "                 color='r',\n",
    "                 label='not quoted')\n",
    "\n",
    "plt.xlabel('sources',size=20)\n",
    "plt.ylabel('Number of tweets',size=20)\n",
    "#plt.title('')\n",
    "plt.xticks(index + bar_width / 2, ('Android', 'iPhone'))\n",
    "plt.legend(prop={\"size\":24})\n",
    "\n",
    "plt.tight_layout()\n",
    "plt.show()"
   ]
  },
  {
   "cell_type": "code",
   "execution_count": 7,
   "metadata": {
    "collapsed": false
   },
   "outputs": [
    {
     "data": {
      "text/html": [
       "<div>\n",
       "<table border=\"1\" class=\"dataframe\">\n",
       "  <thead>\n",
       "    <tr style=\"text-align: right;\">\n",
       "      <th>source</th>\n",
       "      <th>Instagram</th>\n",
       "      <th>Media Studio</th>\n",
       "      <th>Periscope</th>\n",
       "      <th>Twitter Ads</th>\n",
       "      <th>Twitter Web Client</th>\n",
       "      <th>Twitter for Android</th>\n",
       "      <th>Twitter for iPad</th>\n",
       "      <th>Twitter for iPhone</th>\n",
       "      <th>All</th>\n",
       "    </tr>\n",
       "  </thead>\n",
       "  <tbody>\n",
       "    <tr>\n",
       "      <th>No at</th>\n",
       "      <td>2</td>\n",
       "      <td>1</td>\n",
       "      <td>1</td>\n",
       "      <td>0</td>\n",
       "      <td>177</td>\n",
       "      <td>922</td>\n",
       "      <td>15</td>\n",
       "      <td>1113</td>\n",
       "      <td>2231</td>\n",
       "    </tr>\n",
       "    <tr>\n",
       "      <th>at</th>\n",
       "      <td>0</td>\n",
       "      <td>0</td>\n",
       "      <td>0</td>\n",
       "      <td>1</td>\n",
       "      <td>96</td>\n",
       "      <td>546</td>\n",
       "      <td>7</td>\n",
       "      <td>364</td>\n",
       "      <td>1014</td>\n",
       "    </tr>\n",
       "    <tr>\n",
       "      <th>All</th>\n",
       "      <td>2</td>\n",
       "      <td>1</td>\n",
       "      <td>1</td>\n",
       "      <td>1</td>\n",
       "      <td>273</td>\n",
       "      <td>1468</td>\n",
       "      <td>22</td>\n",
       "      <td>1477</td>\n",
       "      <td>3245</td>\n",
       "    </tr>\n",
       "  </tbody>\n",
       "</table>\n",
       "</div>"
      ],
      "text/plain": [
       "source  Instagram  Media Studio  Periscope  Twitter Ads  Twitter Web Client  \\\n",
       "No at           2             1          1            0                 177   \n",
       "at              0             0          0            1                  96   \n",
       "All             2             1          1            1                 273   \n",
       "\n",
       "source  Twitter for Android  Twitter for iPad  Twitter for iPhone   All  \n",
       "No at                   922                15                1113  2231  \n",
       "at                      546                 7                 364  1014  \n",
       "All                    1468                22                1477  3245  "
      ]
     },
     "execution_count": 7,
     "metadata": {},
     "output_type": "execute_result"
    }
   ],
   "source": [
    "Trump[\"at\"] = ['@' in Trump[\"text\"].iloc[i] for i in xrange(Trump.shape[0])]\n",
    "\n",
    "Source_at = pd.crosstab(index=Trump[\"at\"], columns=Trump[\"source\"], margins = True)\n",
    "Source_at.index= [\"No at\",\"at\",\"All\"]\n",
    "Source_at"
   ]
  },
  {
   "cell_type": "code",
   "execution_count": 39,
   "metadata": {
    "collapsed": false
   },
   "outputs": [
    {
     "data": {
      "text/html": [
       "<div>\n",
       "<table border=\"1\" class=\"dataframe\">\n",
       "  <thead>\n",
       "    <tr style=\"text-align: right;\">\n",
       "      <th></th>\n",
       "      <th>source</th>\n",
       "      <th>at</th>\n",
       "      <th>id</th>\n",
       "    </tr>\n",
       "  </thead>\n",
       "  <tbody>\n",
       "    <tr>\n",
       "      <th>6</th>\n",
       "      <td>Twitter for Android</td>\n",
       "      <td>False</td>\n",
       "      <td>922</td>\n",
       "    </tr>\n",
       "    <tr>\n",
       "      <th>7</th>\n",
       "      <td>Twitter for Android</td>\n",
       "      <td>True</td>\n",
       "      <td>546</td>\n",
       "    </tr>\n",
       "    <tr>\n",
       "      <th>10</th>\n",
       "      <td>Twitter for iPhone</td>\n",
       "      <td>False</td>\n",
       "      <td>1113</td>\n",
       "    </tr>\n",
       "    <tr>\n",
       "      <th>11</th>\n",
       "      <td>Twitter for iPhone</td>\n",
       "      <td>True</td>\n",
       "      <td>364</td>\n",
       "    </tr>\n",
       "  </tbody>\n",
       "</table>\n",
       "</div>"
      ],
      "text/plain": [
       "                 source     at    id\n",
       "6   Twitter for Android  False   922\n",
       "7   Twitter for Android   True   546\n",
       "10   Twitter for iPhone  False  1113\n",
       "11   Twitter for iPhone   True   364"
      ]
     },
     "execution_count": 39,
     "metadata": {},
     "output_type": "execute_result"
    }
   ],
   "source": [
    "at_tweet = Trump.groupby(by=[\"source\",\"at\"]).count().reset_index()[[\"source\",\"at\",\"id\"]]\n",
    "at_tweet = pd.concat([at_tweet[at_tweet[\"source\"] == \"Twitter for Android\"],at_tweet[at_tweet[\"source\"] == \"Twitter for iPhone\"]])\n",
    "at_tweet"
   ]
  },
  {
   "cell_type": "code",
   "execution_count": 46,
   "metadata": {
    "collapsed": false
   },
   "outputs": [
    {
     "data": {
      "image/png": "[encoded data removed]",
      "text/plain": [
       "<matplotlib.figure.Figure at 0xc328da0>"
      ]
     },
     "metadata": {},
     "output_type": "display_data"
    }
   ],
   "source": [
    "fig, ax = plt.subplots()\n",
    "index = np.arange(2)\n",
    "bar_width = 0.25\n",
    "\n",
    "number_at = at_tweet[at_tweet[\"at\"]==True][\"id\"]\n",
    "number_no_at = at_tweet[at_tweet[\"at\"]!=True][\"id\"]\n",
    "\n",
    "opacity = 0.4\n",
    "error_config = {'ecolor': '0.3'}\n",
    "\n",
    "rects1 = plt.bar(index, number_at, bar_width,\n",
    "                 alpha=opacity,\n",
    "                 color='b',\n",
    "                 label='at')\n",
    "\n",
    "rects2 = plt.bar(index + bar_width, number_no_at, bar_width,\n",
    "                 alpha=opacity,\n",
    "                 color='r',\n",
    "                 label='no at')\n",
    "\n",
    "plt.xlabel('sources',size=20)\n",
    "plt.ylabel('Number of tweets',size=20)\n",
    "#plt.title('')\n",
    "plt.xticks(index + bar_width / 2, ('Android', 'iPhone'))\n",
    "plt.legend(prop={\"size\":24})\n",
    "\n",
    "plt.tight_layout()\n",
    "plt.show()"
   ]
  },
  {
   "cell_type": "markdown",
   "metadata": {},
   "source": [
    "<p>Trump's tweets from Android are more likely to quote others, are more likely to at(@) others. However, most of the hashtags(#) are from iPhone.</p>"
   ]
  },
  {
   "cell_type": "code",
   "execution_count": 47,
   "metadata": {
    "collapsed": true
   },
   "outputs": [],
   "source": [
    "import nltk\n",
    "from nltk.corpus import sentiwordnet as swn\n",
    "\n",
    "def sentiment_of_word(s):\n",
    "    '''\n",
    "    Based on corpus \"sentiwordnet\", get the positive-negative score of a word.\n",
    "    Input: s(string): a word for judgment.\n",
    "    Output: score(float): the positive-negative score of the word.\n",
    "    '''\n",
    "    l = list(swn.senti_synsets(s))\n",
    "    score = 0\n",
    "    if len(l) > 0:\n",
    "        for item in l:\n",
    "            score += item.pos_score()\n",
    "            score -= item.neg_score()\n",
    "        score = score/len(l)\n",
    "    return score"
   ]
  },
  {
   "cell_type": "code",
   "execution_count": 48,
   "metadata": {
    "collapsed": true
   },
   "outputs": [],
   "source": [
    "from nltk.corpus import stopwords\n",
    "\n",
    "def sentiment_of_tweet(d):\n",
    "    '''\n",
    "    Based on sentiment_of_word, get the average score of a sentence or a paragraph (after removing stopwords).\n",
    "    Input: d(string): a sentence or a paragraph.\n",
    "    Output: average positive-negative score.\n",
    "    '''\n",
    "    stop = set(stopwords.words(\"english\"))\n",
    "    words = [word for word in d.lower().split() if word not in stop]\n",
    "    score = 0\n",
    "    for word in words:\n",
    "        try:\n",
    "            score += sentiment_of_word(word)\n",
    "        except:\n",
    "            pass\n",
    "    return(score/len(words))"
   ]
  },
  {
   "cell_type": "code",
   "execution_count": 49,
   "metadata": {
    "collapsed": true
   },
   "outputs": [],
   "source": [
    "Trump[\"sentiment\"] = [sentiment_of_tweet(text) for text in Trump[\"text\"]]\n",
    "Trump[\"negative\"] = Trump[\"sentiment\"]<0"
   ]
  },
  {
   "cell_type": "code",
   "execution_count": 50,
   "metadata": {
    "collapsed": false
   },
   "outputs": [
    {
     "data": {
      "text/html": [
       "<div>\n",
       "<table border=\"1\" class=\"dataframe\">\n",
       "  <thead>\n",
       "    <tr style=\"text-align: right;\">\n",
       "      <th>source</th>\n",
       "      <th>Instagram</th>\n",
       "      <th>Media Studio</th>\n",
       "      <th>Periscope</th>\n",
       "      <th>Twitter Ads</th>\n",
       "      <th>Twitter Web Client</th>\n",
       "      <th>Twitter for Android</th>\n",
       "      <th>Twitter for iPad</th>\n",
       "      <th>Twitter for iPhone</th>\n",
       "      <th>All</th>\n",
       "    </tr>\n",
       "  </thead>\n",
       "  <tbody>\n",
       "    <tr>\n",
       "      <th>positive</th>\n",
       "      <td>2</td>\n",
       "      <td>1</td>\n",
       "      <td>1</td>\n",
       "      <td>1</td>\n",
       "      <td>147</td>\n",
       "      <td>864</td>\n",
       "      <td>18</td>\n",
       "      <td>1090</td>\n",
       "      <td>2124</td>\n",
       "    </tr>\n",
       "    <tr>\n",
       "      <th>negative</th>\n",
       "      <td>0</td>\n",
       "      <td>0</td>\n",
       "      <td>0</td>\n",
       "      <td>0</td>\n",
       "      <td>126</td>\n",
       "      <td>604</td>\n",
       "      <td>4</td>\n",
       "      <td>387</td>\n",
       "      <td>1121</td>\n",
       "    </tr>\n",
       "    <tr>\n",
       "      <th>All</th>\n",
       "      <td>2</td>\n",
       "      <td>1</td>\n",
       "      <td>1</td>\n",
       "      <td>1</td>\n",
       "      <td>273</td>\n",
       "      <td>1468</td>\n",
       "      <td>22</td>\n",
       "      <td>1477</td>\n",
       "      <td>3245</td>\n",
       "    </tr>\n",
       "  </tbody>\n",
       "</table>\n",
       "</div>"
      ],
      "text/plain": [
       "source    Instagram  Media Studio  Periscope  Twitter Ads  Twitter Web Client  \\\n",
       "positive          2             1          1            1                 147   \n",
       "negative          0             0          0            0                 126   \n",
       "All               2             1          1            1                 273   \n",
       "\n",
       "source    Twitter for Android  Twitter for iPad  Twitter for iPhone   All  \n",
       "positive                  864                18                1090  2124  \n",
       "negative                  604                 4                 387  1121  \n",
       "All                      1468                22                1477  3245  "
      ]
     },
     "execution_count": 50,
     "metadata": {},
     "output_type": "execute_result"
    }
   ],
   "source": [
    "Source_sentiment = pd.crosstab(index=Trump[\"negative\"], columns=Trump[\"source\"], margins = True)\n",
    "Source_sentiment.index= [\"positive\",\"negative\",\"All\"]\n",
    "Source_sentiment"
   ]
  },
  {
   "cell_type": "code",
   "execution_count": 51,
   "metadata": {
    "collapsed": false
   },
   "outputs": [
    {
     "data": {
      "text/plain": [
       "Power_divergenceResult(statistic=381.56162988115454, pvalue=2.1817299277856834e-82)"
      ]
     },
     "execution_count": 51,
     "metadata": {},
     "output_type": "execute_result"
    }
   ],
   "source": [
    "#Chi_square test for Android and iPhone\n",
    "import numpy as np\n",
    "from scipy.stats import chisquare\n",
    "obs = np.array([[Trump[(Trump[\"sentiment\"]<0) & (Trump[\"source\"] == \"Twitter for Android\")].shape[0],\n",
    "                 Trump[(Trump[\"sentiment\"]>=0) & (Trump[\"source\"] == \"Twitter for Android\")].shape[0]],\n",
    "                [Trump[(Trump[\"sentiment\"]<0) & (Trump[\"source\"] == \"Twitter for iPhone\")].shape[0],\n",
    "                 Trump[(Trump[\"sentiment\"]>=0) & (Trump[\"source\"] == \"Twitter for iPhone\")].shape[0]]])\n",
    "chisquare(obs,axis=None)"
   ]
  },
  {
   "cell_type": "markdown",
   "metadata": {},
   "source": [
    "<p>We use Obama's tweets for comparison.</p>"
   ]
  },
  {
   "cell_type": "code",
   "execution_count": 8,
   "metadata": {
    "collapsed": false
   },
   "outputs": [
    {
     "data": {
      "text/html": [
       "<div>\n",
       "<table border=\"1\" class=\"dataframe\">\n",
       "  <thead>\n",
       "    <tr style=\"text-align: right;\">\n",
       "      <th></th>\n",
       "      <th>Unnamed: 0</th>\n",
       "      <th>id</th>\n",
       "      <th>created_time</th>\n",
       "      <th>text</th>\n",
       "      <th>source</th>\n",
       "      <th>favorite_count</th>\n",
       "      <th>retweet_count</th>\n",
       "      <th>username</th>\n",
       "    </tr>\n",
       "  </thead>\n",
       "  <tbody>\n",
       "    <tr>\n",
       "      <th>0</th>\n",
       "      <td>0</td>\n",
       "      <td>832675462325243906</td>\n",
       "      <td>2017-02-17 19:37:55</td>\n",
       "      <td>We asked. You answered. https://t.co/mAJvko6VqR</td>\n",
       "      <td>Twitter Web Client</td>\n",
       "      <td>101664</td>\n",
       "      <td>23627</td>\n",
       "      <td>BarackObama</td>\n",
       "    </tr>\n",
       "    <tr>\n",
       "      <th>1</th>\n",
       "      <td>1</td>\n",
       "      <td>831527113211645959</td>\n",
       "      <td>2017-02-14 15:34:47</td>\n",
       "      <td>Happy Valentine’s Day, @michelleobama! Almost ...</td>\n",
       "      <td>Twitter Web Client</td>\n",
       "      <td>1057719</td>\n",
       "      <td>255894</td>\n",
       "      <td>BarackObama</td>\n",
       "    </tr>\n",
       "    <tr>\n",
       "      <th>2</th>\n",
       "      <td>2</td>\n",
       "      <td>823230505546117120</td>\n",
       "      <td>2017-01-22 18:07:02</td>\n",
       "      <td>I read letters like these every single day. It...</td>\n",
       "      <td>Twitter Web Client</td>\n",
       "      <td>232803</td>\n",
       "      <td>35037</td>\n",
       "      <td>BarackObama</td>\n",
       "    </tr>\n",
       "    <tr>\n",
       "      <th>3</th>\n",
       "      <td>3</td>\n",
       "      <td>822553543479541761</td>\n",
       "      <td>2017-01-20 21:17:01</td>\n",
       "      <td>RT @ObamaFoundation: Add your voice: https://t...</td>\n",
       "      <td>Twitter Web Client</td>\n",
       "      <td>0</td>\n",
       "      <td>48010</td>\n",
       "      <td>BarackObama</td>\n",
       "    </tr>\n",
       "    <tr>\n",
       "      <th>4</th>\n",
       "      <td>4</td>\n",
       "      <td>822550536469803009</td>\n",
       "      <td>2017-01-20 21:05:04</td>\n",
       "      <td>In the meantime, I want to hear what you're th...</td>\n",
       "      <td>Twitter Web Client</td>\n",
       "      <td>236278</td>\n",
       "      <td>54259</td>\n",
       "      <td>BarackObama</td>\n",
       "    </tr>\n",
       "  </tbody>\n",
       "</table>\n",
       "</div>"
      ],
      "text/plain": [
       "   Unnamed: 0                  id         created_time  \\\n",
       "0           0  832675462325243906  2017-02-17 19:37:55   \n",
       "1           1  831527113211645959  2017-02-14 15:34:47   \n",
       "2           2  823230505546117120  2017-01-22 18:07:02   \n",
       "3           3  822553543479541761  2017-01-20 21:17:01   \n",
       "4           4  822550536469803009  2017-01-20 21:05:04   \n",
       "\n",
       "                                                text              source  \\\n",
       "0    We asked. You answered. https://t.co/mAJvko6VqR  Twitter Web Client   \n",
       "1  Happy Valentine’s Day, @michelleobama! Almost ...  Twitter Web Client   \n",
       "2  I read letters like these every single day. It...  Twitter Web Client   \n",
       "3  RT @ObamaFoundation: Add your voice: https://t...  Twitter Web Client   \n",
       "4  In the meantime, I want to hear what you're th...  Twitter Web Client   \n",
       "\n",
       "   favorite_count  retweet_count     username  \n",
       "0          101664          23627  BarackObama  \n",
       "1         1057719         255894  BarackObama  \n",
       "2          232803          35037  BarackObama  \n",
       "3               0          48010  BarackObama  \n",
       "4          236278          54259  BarackObama  "
      ]
     },
     "execution_count": 8,
     "metadata": {},
     "output_type": "execute_result"
    }
   ],
   "source": [
    "Obama = pd.read_csv(r\"C:\\users\\kevin\\Obama.csv\")\n",
    "Obama.head()"
   ]
  },
  {
   "cell_type": "code",
   "execution_count": 9,
   "metadata": {
    "collapsed": false
   },
   "outputs": [
    {
     "data": {
      "text/plain": [
       "negative\n",
       "False    2415\n",
       "True      810\n",
       "Name: id, dtype: int64"
      ]
     },
     "execution_count": 9,
     "metadata": {},
     "output_type": "execute_result"
    }
   ],
   "source": [
    "Obama[\"sentiment\"] = [sentiment_of_tweet(text) for text in Obama[\"text\"]]\n",
    "Obama[\"negative\"] = Obama[\"sentiment\"]<0\n",
    "Obama.groupby(by=\"negative\").count()[\"id\"]"
   ]
  },
  {
   "cell_type": "markdown",
   "metadata": {},
   "source": [
    "<p>For Obama, the proportion of negative tweets is about 25.1%. It is 26.2% for Trump's iPhone, and 41.1% for Trump's Android.</p>\n",
    "<p>The proportion of Trump's iPhone is close to Obama's. However, Trump's Android is extremely high.</p>"
   ]
  },
  {
   "cell_type": "markdown",
   "metadata": {},
   "source": [
    "<p>Also, for Trump, we want to see whether his tweets' ratio of negative change over times.</p>"
   ]
  },
  {
   "cell_type": "code",
   "execution_count": 52,
   "metadata": {
    "collapsed": true
   },
   "outputs": [],
   "source": [
    "import datetime\n",
    "Trump[\"created_time\"] = [datetime.datetime.strptime(Trump[\"created_time\"].iloc[i],\"%Y-%m-%d %H:%M:%S\") for i in xrange(Trump.shape[0])]\n",
    "\n",
    "Trump[\"year\"] = [Trump[\"created_time\"].iloc[i].year for i in xrange(Trump.shape[0])]\n",
    "Trump[\"week\"] = [Trump[\"created_time\"].iloc[i].week for i in xrange(Trump.shape[0])]"
   ]
  },
  {
   "cell_type": "code",
   "execution_count": 53,
   "metadata": {
    "collapsed": true
   },
   "outputs": [],
   "source": [
    "def return_year(i):\n",
    "    '''\n",
    "    For 2017-01-01, the year is 2017 but the week is 52. That is because in system that day belongs to the last week in 2016.\n",
    "    '''\n",
    "    if Trump[\"created_time\"].iloc[i].year == 2017 and Trump[\"created_time\"].iloc[i].month == 1 and Trump[\"created_time\"].iloc[i].day == 1:\n",
    "        return 2016\n",
    "    else:\n",
    "        return Trump[\"created_time\"].iloc[i].year\n",
    "    \n",
    "Trump[\"year\"] = [return_year(i) for i in xrange(Trump.shape[0])]"
   ]
  },
  {
   "cell_type": "code",
   "execution_count": 54,
   "metadata": {
    "collapsed": false
   },
   "outputs": [
    {
     "data": {
      "text/html": [
       "<div>\n",
       "<table border=\"1\" class=\"dataframe\">\n",
       "  <thead>\n",
       "    <tr style=\"text-align: right;\">\n",
       "      <th></th>\n",
       "      <th>year</th>\n",
       "      <th>week</th>\n",
       "      <th>id</th>\n",
       "      <th>source</th>\n",
       "      <th>negative</th>\n",
       "    </tr>\n",
       "  </thead>\n",
       "  <tbody>\n",
       "    <tr>\n",
       "      <th>0</th>\n",
       "      <td>2016</td>\n",
       "      <td>11</td>\n",
       "      <td>23</td>\n",
       "      <td>Twitter for Android</td>\n",
       "      <td>10.0</td>\n",
       "    </tr>\n",
       "    <tr>\n",
       "      <th>1</th>\n",
       "      <td>2016</td>\n",
       "      <td>11</td>\n",
       "      <td>11</td>\n",
       "      <td>Twitter for iPhone</td>\n",
       "      <td>1.0</td>\n",
       "    </tr>\n",
       "    <tr>\n",
       "      <th>2</th>\n",
       "      <td>2016</td>\n",
       "      <td>12</td>\n",
       "      <td>7</td>\n",
       "      <td>Twitter Web Client</td>\n",
       "      <td>4.0</td>\n",
       "    </tr>\n",
       "    <tr>\n",
       "      <th>3</th>\n",
       "      <td>2016</td>\n",
       "      <td>12</td>\n",
       "      <td>57</td>\n",
       "      <td>Twitter for Android</td>\n",
       "      <td>22.0</td>\n",
       "    </tr>\n",
       "    <tr>\n",
       "      <th>4</th>\n",
       "      <td>2016</td>\n",
       "      <td>12</td>\n",
       "      <td>12</td>\n",
       "      <td>Twitter for iPhone</td>\n",
       "      <td>2.0</td>\n",
       "    </tr>\n",
       "  </tbody>\n",
       "</table>\n",
       "</div>"
      ],
      "text/plain": [
       "   year  week  id               source  negative\n",
       "0  2016    11  23  Twitter for Android      10.0\n",
       "1  2016    11  11   Twitter for iPhone       1.0\n",
       "2  2016    12   7   Twitter Web Client       4.0\n",
       "3  2016    12  57  Twitter for Android      22.0\n",
       "4  2016    12  12   Twitter for iPhone       2.0"
      ]
     },
     "execution_count": 54,
     "metadata": {},
     "output_type": "execute_result"
    }
   ],
   "source": [
    "Trump_week = Trump.groupby(by=[\"year\",\"week\",\"source\"]).count().reset_index()[[\"year\",\"week\",\"id\",\"source\"]].merge(Trump.groupby(by=[\"year\",\"week\",\"source\"]).sum().reset_index()[[\"year\",\"week\",\"negative\",\"source\"]],on=[\"year\",\"week\",\"source\"])\n",
    "Trump_week.head()"
   ]
  },
  {
   "cell_type": "code",
   "execution_count": 55,
   "metadata": {
    "collapsed": false
   },
   "outputs": [
    {
     "data": {
      "text/plain": [
       "(51, 4)"
      ]
     },
     "execution_count": 55,
     "metadata": {},
     "output_type": "execute_result"
    }
   ],
   "source": [
    "Trump_week_total = Trump_week.groupby(by=[\"year\",\"week\"]).sum()\n",
    "Trump_week_total = Trump_week_total.reset_index()\n",
    "Trump_week_total.shape"
   ]
  },
  {
   "cell_type": "code",
   "execution_count": 56,
   "metadata": {
    "collapsed": false
   },
   "outputs": [
    {
     "data": {
      "text/plain": [
       "(51, 5)"
      ]
     },
     "execution_count": 56,
     "metadata": {},
     "output_type": "execute_result"
    }
   ],
   "source": [
    "Trump_week_android = Trump_week[Trump_week[\"source\"] == \"Twitter for Android\"]\n",
    "Trump_week_android.shape"
   ]
  },
  {
   "cell_type": "code",
   "execution_count": 57,
   "metadata": {
    "collapsed": false
   },
   "outputs": [
    {
     "data": {
      "text/plain": [
       "(51, 5)"
      ]
     },
     "execution_count": 57,
     "metadata": {},
     "output_type": "execute_result"
    }
   ],
   "source": [
    "Trump_week_iphone = Trump_week[Trump_week[\"source\"] == \"Twitter for iPhone\"]\n",
    "Trump_week_iphone = pd.concat([Trump_week_iphone.iloc[0:35],pd.DataFrame({\"year\":2016,\"week\":46,\"id\":0,\"source\":\"Twitter for iPhone\",\"negative\":0},index=[20]),Trump_week_iphone.iloc[35:]])\n",
    "Trump_week_iphone.shape"
   ]
  },
  {
   "cell_type": "code",
   "execution_count": 60,
   "metadata": {
    "collapsed": false
   },
   "outputs": [
    {
     "data": {
      "image/png": "[encoded data removed]",
      "text/plain": [
       "<matplotlib.figure.Figure at 0x1b07b2e8>"
      ]
     },
     "metadata": {},
     "output_type": "display_data"
    }
   ],
   "source": [
    "plt.rcParams['figure.figsize'] = (16, 12)\n",
    "plt.rcParams['ytick.labelsize'] = 16\n",
    "fig,ax = plt.subplots()\n",
    "\n",
    "xticks = range(0,Trump_week_android.shape[0],3)\n",
    "labels = [datetime.datetime.strptime(\"{} {} 1\".format(Trump_week_total[\"year\"].iloc[i], Trump_week_total[\"week\"].iloc[i]), '%Y %W %w').date() for i in xrange(Trump_week_total.shape[0])]\n",
    "xlabels = [labels[index] for index in xticks]\n",
    "\n",
    "ax.set_xticks(xticks)\n",
    "ax.set_xticklabels(xlabels,rotation=40)\n",
    "\n",
    "#week_total = list(Trump_week_total[\"negative\"]/Trump_week_total[\"id\"], label = \"total)\n",
    "week_android = list(Trump_week_android[\"negative\"]/Trump_week_android[\"id\"])\n",
    "week_iphone = list(Trump_week_iphone[\"negative\"]/Trump_week_iphone[\"id\"])\n",
    "\n",
    "#plt.plot(week_total)\n",
    "plt.plot(week_android,label = \"Android\")\n",
    "plt.plot(week_iphone, label = \"iPhone\")\n",
    "plt.grid()\n",
    "plt.legend(loc=2, prop={\"size\":30})\n",
    "plt.title('Negative Tweets Ratio',size=24)\n",
    "plt.ylabel(\"Negative Tweets Ratio\",size=18)\n",
    "plt.show()"
   ]
  },
  {
   "cell_type": "markdown",
   "metadata": {},
   "source": [
    "<p>2016-07-02: Hillary Clinton's corruption scandal\n",
    "<p>2016-09-09: Hillary's \"Basket Of Deplorables\"\n",
    "<p>2016-10-07: Sexual misconduct accusations\n",
    "<p>2017-01-09: Meryl Streep's speech\n",
    "<p>2017-01-20: Inauguration\n",
    "<p>2017-02-13: Michael Flynn resigned."
   ]
  }
 ],
 "metadata": {
  "kernelspec": {
   "display_name": "Python 2",
   "language": "python",
   "name": "python2"
  },
  "language_info": {
   "codemirror_mode": {
    "name": "ipython",
    "version": 2
   },
   "file_extension": ".py",
   "mimetype": "text/x-python",
   "name": "python",
   "nbconvert_exporter": "python",
   "pygments_lexer": "ipython2",
   "version": "2.7.13"
  }
 },
 "nbformat": 4,
 "nbformat_minor": 2
}
